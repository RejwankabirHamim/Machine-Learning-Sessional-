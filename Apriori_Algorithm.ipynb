{
  "cells": [
    {
      "cell_type": "markdown",
      "metadata": {
        "id": "view-in-github",
        "colab_type": "text"
      },
      "source": [
        "<a href=\"https://colab.research.google.com/github/RejwankabirHamim/Machine-Learning-Sessional-/blob/main/Apriori_Algorithm.ipynb\" target=\"_parent\"><img src=\"https://colab.research.google.com/assets/colab-badge.svg\" alt=\"Open In Colab\"/></a>"
      ]
    },
    {
      "cell_type": "markdown",
      "id": "a9f84b40",
      "metadata": {
        "id": "a9f84b40"
      },
      "source": [
        "# Apriori Algorithm"
      ]
    },
    {
      "cell_type": "code",
      "source": [
        "pip install apyori"
      ],
      "metadata": {
        "colab": {
          "base_uri": "https://localhost:8080/"
        },
        "id": "rdnBbGOAb0h8",
        "outputId": "b9454f15-4beb-4960-dec3-3f6b6e465ef1"
      },
      "id": "rdnBbGOAb0h8",
      "execution_count": 8,
      "outputs": [
        {
          "output_type": "stream",
          "name": "stdout",
          "text": [
            "Collecting apyori\n",
            "  Downloading apyori-1.1.2.tar.gz (8.6 kB)\n",
            "  Preparing metadata (setup.py) ... \u001b[?25l\u001b[?25hdone\n",
            "Building wheels for collected packages: apyori\n",
            "  Building wheel for apyori (setup.py) ... \u001b[?25l\u001b[?25hdone\n",
            "  Created wheel for apyori: filename=apyori-1.1.2-py3-none-any.whl size=5956 sha256=839e7e10efbb9267717f433d7a44fe2d01b42cb9048cabb703dcc60c09530fa9\n",
            "  Stored in directory: /root/.cache/pip/wheels/c4/1a/79/20f55c470a50bb3702a8cb7c94d8ada15573538c7f4baebe2d\n",
            "Successfully built apyori\n",
            "Installing collected packages: apyori\n",
            "Successfully installed apyori-1.1.2\n"
          ]
        }
      ]
    },
    {
      "cell_type": "code",
      "execution_count": 9,
      "id": "93e0411a",
      "metadata": {
        "id": "93e0411a"
      },
      "outputs": [],
      "source": [
        "import numpy as np\n",
        "import matplotlib.pyplot as plt\n",
        "import pandas as pd\n",
        "from apyori import apriori"
      ]
    },
    {
      "cell_type": "code",
      "execution_count": 10,
      "id": "a58cea3b",
      "metadata": {
        "id": "a58cea3b"
      },
      "outputs": [],
      "source": [
        "store_data = pd.read_csv('/content/sample_data/california_housing_test.csv', header=None)"
      ]
    },
    {
      "cell_type": "code",
      "execution_count": 11,
      "id": "6a06a3b2",
      "metadata": {
        "colab": {
          "base_uri": "https://localhost:8080/",
          "height": 206
        },
        "id": "6a06a3b2",
        "outputId": "9ac499c0-a9c7-4182-cd09-fe9d210c1c4b"
      },
      "outputs": [
        {
          "output_type": "execute_result",
          "data": {
            "text/plain": [
              "             0          1                   2            3               4  \\\n",
              "0    longitude   latitude  housing_median_age  total_rooms  total_bedrooms   \n",
              "1  -122.050000  37.370000           27.000000  3885.000000      661.000000   \n",
              "2  -118.300000  34.260000           43.000000  1510.000000      310.000000   \n",
              "3  -117.810000  33.780000           27.000000  3589.000000      507.000000   \n",
              "4  -118.360000  33.820000           28.000000    67.000000       15.000000   \n",
              "\n",
              "             5           6              7                   8  \n",
              "0   population  households  median_income  median_house_value  \n",
              "1  1537.000000  606.000000       6.608500       344700.000000  \n",
              "2   809.000000  277.000000       3.599000       176500.000000  \n",
              "3  1484.000000  495.000000       5.793400       270500.000000  \n",
              "4    49.000000   11.000000       6.135900       330000.000000  "
            ],
            "text/html": [
              "\n",
              "  <div id=\"df-a7c7ab56-251b-4416-9a22-962bf58be4b1\" class=\"colab-df-container\">\n",
              "    <div>\n",
              "<style scoped>\n",
              "    .dataframe tbody tr th:only-of-type {\n",
              "        vertical-align: middle;\n",
              "    }\n",
              "\n",
              "    .dataframe tbody tr th {\n",
              "        vertical-align: top;\n",
              "    }\n",
              "\n",
              "    .dataframe thead th {\n",
              "        text-align: right;\n",
              "    }\n",
              "</style>\n",
              "<table border=\"1\" class=\"dataframe\">\n",
              "  <thead>\n",
              "    <tr style=\"text-align: right;\">\n",
              "      <th></th>\n",
              "      <th>0</th>\n",
              "      <th>1</th>\n",
              "      <th>2</th>\n",
              "      <th>3</th>\n",
              "      <th>4</th>\n",
              "      <th>5</th>\n",
              "      <th>6</th>\n",
              "      <th>7</th>\n",
              "      <th>8</th>\n",
              "    </tr>\n",
              "  </thead>\n",
              "  <tbody>\n",
              "    <tr>\n",
              "      <th>0</th>\n",
              "      <td>longitude</td>\n",
              "      <td>latitude</td>\n",
              "      <td>housing_median_age</td>\n",
              "      <td>total_rooms</td>\n",
              "      <td>total_bedrooms</td>\n",
              "      <td>population</td>\n",
              "      <td>households</td>\n",
              "      <td>median_income</td>\n",
              "      <td>median_house_value</td>\n",
              "    </tr>\n",
              "    <tr>\n",
              "      <th>1</th>\n",
              "      <td>-122.050000</td>\n",
              "      <td>37.370000</td>\n",
              "      <td>27.000000</td>\n",
              "      <td>3885.000000</td>\n",
              "      <td>661.000000</td>\n",
              "      <td>1537.000000</td>\n",
              "      <td>606.000000</td>\n",
              "      <td>6.608500</td>\n",
              "      <td>344700.000000</td>\n",
              "    </tr>\n",
              "    <tr>\n",
              "      <th>2</th>\n",
              "      <td>-118.300000</td>\n",
              "      <td>34.260000</td>\n",
              "      <td>43.000000</td>\n",
              "      <td>1510.000000</td>\n",
              "      <td>310.000000</td>\n",
              "      <td>809.000000</td>\n",
              "      <td>277.000000</td>\n",
              "      <td>3.599000</td>\n",
              "      <td>176500.000000</td>\n",
              "    </tr>\n",
              "    <tr>\n",
              "      <th>3</th>\n",
              "      <td>-117.810000</td>\n",
              "      <td>33.780000</td>\n",
              "      <td>27.000000</td>\n",
              "      <td>3589.000000</td>\n",
              "      <td>507.000000</td>\n",
              "      <td>1484.000000</td>\n",
              "      <td>495.000000</td>\n",
              "      <td>5.793400</td>\n",
              "      <td>270500.000000</td>\n",
              "    </tr>\n",
              "    <tr>\n",
              "      <th>4</th>\n",
              "      <td>-118.360000</td>\n",
              "      <td>33.820000</td>\n",
              "      <td>28.000000</td>\n",
              "      <td>67.000000</td>\n",
              "      <td>15.000000</td>\n",
              "      <td>49.000000</td>\n",
              "      <td>11.000000</td>\n",
              "      <td>6.135900</td>\n",
              "      <td>330000.000000</td>\n",
              "    </tr>\n",
              "  </tbody>\n",
              "</table>\n",
              "</div>\n",
              "    <div class=\"colab-df-buttons\">\n",
              "\n",
              "  <div class=\"colab-df-container\">\n",
              "    <button class=\"colab-df-convert\" onclick=\"convertToInteractive('df-a7c7ab56-251b-4416-9a22-962bf58be4b1')\"\n",
              "            title=\"Convert this dataframe to an interactive table.\"\n",
              "            style=\"display:none;\">\n",
              "\n",
              "  <svg xmlns=\"http://www.w3.org/2000/svg\" height=\"24px\" viewBox=\"0 -960 960 960\">\n",
              "    <path d=\"M120-120v-720h720v720H120Zm60-500h600v-160H180v160Zm220 220h160v-160H400v160Zm0 220h160v-160H400v160ZM180-400h160v-160H180v160Zm440 0h160v-160H620v160ZM180-180h160v-160H180v160Zm440 0h160v-160H620v160Z\"/>\n",
              "  </svg>\n",
              "    </button>\n",
              "\n",
              "  <style>\n",
              "    .colab-df-container {\n",
              "      display:flex;\n",
              "      gap: 12px;\n",
              "    }\n",
              "\n",
              "    .colab-df-convert {\n",
              "      background-color: #E8F0FE;\n",
              "      border: none;\n",
              "      border-radius: 50%;\n",
              "      cursor: pointer;\n",
              "      display: none;\n",
              "      fill: #1967D2;\n",
              "      height: 32px;\n",
              "      padding: 0 0 0 0;\n",
              "      width: 32px;\n",
              "    }\n",
              "\n",
              "    .colab-df-convert:hover {\n",
              "      background-color: #E2EBFA;\n",
              "      box-shadow: 0px 1px 2px rgba(60, 64, 67, 0.3), 0px 1px 3px 1px rgba(60, 64, 67, 0.15);\n",
              "      fill: #174EA6;\n",
              "    }\n",
              "\n",
              "    .colab-df-buttons div {\n",
              "      margin-bottom: 4px;\n",
              "    }\n",
              "\n",
              "    [theme=dark] .colab-df-convert {\n",
              "      background-color: #3B4455;\n",
              "      fill: #D2E3FC;\n",
              "    }\n",
              "\n",
              "    [theme=dark] .colab-df-convert:hover {\n",
              "      background-color: #434B5C;\n",
              "      box-shadow: 0px 1px 3px 1px rgba(0, 0, 0, 0.15);\n",
              "      filter: drop-shadow(0px 1px 2px rgba(0, 0, 0, 0.3));\n",
              "      fill: #FFFFFF;\n",
              "    }\n",
              "  </style>\n",
              "\n",
              "    <script>\n",
              "      const buttonEl =\n",
              "        document.querySelector('#df-a7c7ab56-251b-4416-9a22-962bf58be4b1 button.colab-df-convert');\n",
              "      buttonEl.style.display =\n",
              "        google.colab.kernel.accessAllowed ? 'block' : 'none';\n",
              "\n",
              "      async function convertToInteractive(key) {\n",
              "        const element = document.querySelector('#df-a7c7ab56-251b-4416-9a22-962bf58be4b1');\n",
              "        const dataTable =\n",
              "          await google.colab.kernel.invokeFunction('convertToInteractive',\n",
              "                                                    [key], {});\n",
              "        if (!dataTable) return;\n",
              "\n",
              "        const docLinkHtml = 'Like what you see? Visit the ' +\n",
              "          '<a target=\"_blank\" href=https://colab.research.google.com/notebooks/data_table.ipynb>data table notebook</a>'\n",
              "          + ' to learn more about interactive tables.';\n",
              "        element.innerHTML = '';\n",
              "        dataTable['output_type'] = 'display_data';\n",
              "        await google.colab.output.renderOutput(dataTable, element);\n",
              "        const docLink = document.createElement('div');\n",
              "        docLink.innerHTML = docLinkHtml;\n",
              "        element.appendChild(docLink);\n",
              "      }\n",
              "    </script>\n",
              "  </div>\n",
              "\n",
              "\n",
              "<div id=\"df-1fd958ec-9e56-49ba-93a7-f040cc2e625d\">\n",
              "  <button class=\"colab-df-quickchart\" onclick=\"quickchart('df-1fd958ec-9e56-49ba-93a7-f040cc2e625d')\"\n",
              "            title=\"Suggest charts.\"\n",
              "            style=\"display:none;\">\n",
              "\n",
              "<svg xmlns=\"http://www.w3.org/2000/svg\" height=\"24px\"viewBox=\"0 0 24 24\"\n",
              "     width=\"24px\">\n",
              "    <g>\n",
              "        <path d=\"M19 3H5c-1.1 0-2 .9-2 2v14c0 1.1.9 2 2 2h14c1.1 0 2-.9 2-2V5c0-1.1-.9-2-2-2zM9 17H7v-7h2v7zm4 0h-2V7h2v10zm4 0h-2v-4h2v4z\"/>\n",
              "    </g>\n",
              "</svg>\n",
              "  </button>\n",
              "\n",
              "<style>\n",
              "  .colab-df-quickchart {\n",
              "    background-color: #E8F0FE;\n",
              "    border: none;\n",
              "    border-radius: 50%;\n",
              "    cursor: pointer;\n",
              "    display: none;\n",
              "    fill: #1967D2;\n",
              "    height: 32px;\n",
              "    padding: 0 0 0 0;\n",
              "    width: 32px;\n",
              "  }\n",
              "\n",
              "  .colab-df-quickchart:hover {\n",
              "    background-color: #E2EBFA;\n",
              "    box-shadow: 0px 1px 2px rgba(60, 64, 67, 0.3), 0px 1px 3px 1px rgba(60, 64, 67, 0.15);\n",
              "    fill: #174EA6;\n",
              "  }\n",
              "\n",
              "  [theme=dark] .colab-df-quickchart {\n",
              "    background-color: #3B4455;\n",
              "    fill: #D2E3FC;\n",
              "  }\n",
              "\n",
              "  [theme=dark] .colab-df-quickchart:hover {\n",
              "    background-color: #434B5C;\n",
              "    box-shadow: 0px 1px 3px 1px rgba(0, 0, 0, 0.15);\n",
              "    filter: drop-shadow(0px 1px 2px rgba(0, 0, 0, 0.3));\n",
              "    fill: #FFFFFF;\n",
              "  }\n",
              "</style>\n",
              "\n",
              "  <script>\n",
              "    async function quickchart(key) {\n",
              "      const charts = await google.colab.kernel.invokeFunction(\n",
              "          'suggestCharts', [key], {});\n",
              "    }\n",
              "    (() => {\n",
              "      let quickchartButtonEl =\n",
              "        document.querySelector('#df-1fd958ec-9e56-49ba-93a7-f040cc2e625d button');\n",
              "      quickchartButtonEl.style.display =\n",
              "        google.colab.kernel.accessAllowed ? 'block' : 'none';\n",
              "    })();\n",
              "  </script>\n",
              "</div>\n",
              "    </div>\n",
              "  </div>\n"
            ]
          },
          "metadata": {},
          "execution_count": 11
        }
      ],
      "source": [
        "store_data.head()"
      ]
    },
    {
      "cell_type": "code",
      "execution_count": 15,
      "id": "21eb2794",
      "metadata": {
        "colab": {
          "base_uri": "https://localhost:8080/"
        },
        "id": "21eb2794",
        "outputId": "baf41ada-5fbc-4641-a47b-4fbff04924ad"
      },
      "outputs": [
        {
          "output_type": "stream",
          "name": "stdout",
          "text": [
            "3001\n"
          ]
        }
      ],
      "source": [
        "num_records=len(store_data)\n",
        "print(num_records)"
      ]
    },
    {
      "cell_type": "code",
      "execution_count": 16,
      "id": "870dea42",
      "metadata": {
        "id": "870dea42"
      },
      "outputs": [],
      "source": [
        "records=[]\n",
        "for i in range(0, num_records):\n",
        "    records.append([str(store_data.values[i,j]) for j in range(0,8)])\n"
      ]
    },
    {
      "cell_type": "code",
      "execution_count": 21,
      "id": "bf0f6e97",
      "metadata": {
        "id": "bf0f6e97"
      },
      "outputs": [],
      "source": [
        "association_rules = apriori(records, min_support=0.0015, min_confidence=0.2, min_lift=3, min_length=2)\n",
        "association_results = list(association_rules)"
      ]
    },
    {
      "cell_type": "code",
      "execution_count": 22,
      "id": "2ce1ca1e",
      "metadata": {
        "id": "2ce1ca1e",
        "outputId": "705060e6-b760-4eda-e22b-6034a45caeb9",
        "colab": {
          "base_uri": "https://localhost:8080/"
        }
      },
      "outputs": [
        {
          "output_type": "stream",
          "name": "stdout",
          "text": [
            "16\n"
          ]
        }
      ],
      "source": [
        "print(len(association_results))"
      ]
    },
    {
      "cell_type": "code",
      "execution_count": 23,
      "id": "fcff8082",
      "metadata": {
        "id": "fcff8082",
        "outputId": "abc302ed-3351-4bfc-ff78-a9e792a27fe2",
        "colab": {
          "base_uri": "https://localhost:8080/"
        }
      },
      "outputs": [
        {
          "output_type": "stream",
          "name": "stdout",
          "text": [
            "RelationRecord(items=frozenset({'-118.130000', '52.000000'}), support=0.0016661112962345886, ordered_statistics=[OrderedStatistic(items_base=frozenset({'-118.130000'}), items_add=frozenset({'52.000000'}), confidence=0.3571428571428572, lift=6.159688013136289)])\n"
          ]
        }
      ],
      "source": [
        "print(association_results[0])"
      ]
    },
    {
      "cell_type": "code",
      "execution_count": 24,
      "id": "cc2d1602",
      "metadata": {
        "id": "cc2d1602",
        "outputId": "d65c784b-04eb-4f4c-dd6e-90d7aeefac6e",
        "colab": {
          "base_uri": "https://localhost:8080/"
        }
      },
      "outputs": [
        {
          "output_type": "stream",
          "name": "stdout",
          "text": [
            "Rule: -118.130000 -> 52.000000\n",
            "Support: 0.0016661112962345886\n",
            "Confidence: 0.3571428571428572\n",
            "Lift: 6.159688013136289\n",
            "Rule: 35.000000 -> -118.410000\n",
            "Support: 0.0016661112962345886\n",
            "Confidence: 0.2777777777777778\n",
            "Lift: 6.889348025711662\n",
            "Rule: 52.000000 -> -122.270000\n",
            "Support: 0.001999333555481506\n",
            "Confidence: 0.39999999999999997\n",
            "Lift: 6.898850574712643\n",
            "Rule: -122.280000 -> 52.000000\n",
            "Support: 0.0023325558147284237\n",
            "Confidence: 0.43749999999999994\n",
            "Lift: 7.545617816091952\n",
            "Rule: 52.000000 -> -122.420000\n",
            "Support: 0.0016661112962345886\n",
            "Confidence: 0.2777777777777778\n",
            "Lift: 4.790868454661558\n",
            "Rule: 52.000000 -> -122.430000\n",
            "Support: 0.0036654448517160947\n",
            "Confidence: 0.7333333333333333\n",
            "Lift: 12.647892720306512\n",
            "Rule: 52.000000 -> -122.440000\n",
            "Support: 0.001999333555481506\n",
            "Confidence: 0.6666666666666666\n",
            "Lift: 11.498084291187737\n",
            "Rule: 52.000000 -> -122.470000\n",
            "Support: 0.001999333555481506\n",
            "Confidence: 0.3157894736842105\n",
            "Lift: 5.446460980036297\n",
            "Rule: 52.000000 -> 34.160000\n",
            "Support: 0.001999333555481506\n",
            "Confidence: 0.2857142857142857\n",
            "Lift: 4.927750410509031\n",
            "Rule: 52.000000 -> 347.000000\n",
            "Support: 0.0016661112962345886\n",
            "Confidence: 0.25\n",
            "Lift: 4.311781609195402\n",
            "Rule: 52.000000 -> 37.750000\n",
            "Support: 0.0016661112962345886\n",
            "Confidence: 0.3333333333333333\n",
            "Lift: 5.749042145593869\n",
            "Rule: 52.000000 -> 37.760000\n",
            "Support: 0.002999000333222259\n",
            "Confidence: 0.44999999999999996\n",
            "Lift: 7.761206896551723\n",
            "Rule: 52.000000 -> 37.770000\n",
            "Support: 0.003332222592469177\n",
            "Confidence: 0.7142857142857144\n",
            "Lift: 12.319376026272579\n",
            "Rule: 52.000000 -> 37.790000\n",
            "Support: 0.001999333555481506\n",
            "Confidence: 0.39999999999999997\n",
            "Lift: 6.898850574712643\n",
            "Rule: 37.800000 -> 52.000000\n",
            "Support: 0.0023325558147284237\n",
            "Confidence: 0.43749999999999994\n",
            "Lift: 7.545617816091952\n",
            "Rule: 52.000000 -> 451.000000\n",
            "Support: 0.0016661112962345886\n",
            "Confidence: 0.5\n",
            "Lift: 8.623563218390805\n"
          ]
        }
      ],
      "source": [
        "for item in association_results:\n",
        "    # first index of the inner list\n",
        "    # Contains base item and add item\n",
        "    pair = item[0]\n",
        "    items = [x for x in pair]\n",
        "    print(\"Rule: \" + items[0] + \" -> \" + items[1])\n",
        "\n",
        "    #second index of the inner list\n",
        "    print(\"Support: \" + str(item[1]))\n",
        "\n",
        "    #third index of the list located at 0th\n",
        "    #of the third index of the inner list\n",
        "\n",
        "    print(\"Confidence: \" + str(item[2][0][2]))\n",
        "    print(\"Lift: \" + str(item[2][0][3]))"
      ]
    },
    {
      "cell_type": "code",
      "execution_count": null,
      "id": "05111041",
      "metadata": {
        "id": "05111041"
      },
      "outputs": [],
      "source": []
    },
    {
      "cell_type": "code",
      "execution_count": null,
      "id": "434db203",
      "metadata": {
        "id": "434db203"
      },
      "outputs": [],
      "source": []
    }
  ],
  "metadata": {
    "kernelspec": {
      "display_name": "Python 3 (ipykernel)",
      "language": "python",
      "name": "python3"
    },
    "language_info": {
      "codemirror_mode": {
        "name": "ipython",
        "version": 3
      },
      "file_extension": ".py",
      "mimetype": "text/x-python",
      "name": "python",
      "nbconvert_exporter": "python",
      "pygments_lexer": "ipython3",
      "version": "3.10.9"
    },
    "colab": {
      "provenance": [],
      "include_colab_link": true
    }
  },
  "nbformat": 4,
  "nbformat_minor": 5
}