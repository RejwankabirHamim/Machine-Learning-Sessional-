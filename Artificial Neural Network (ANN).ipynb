{
  "nbformat": 4,
  "nbformat_minor": 0,
  "metadata": {
    "colab": {
      "provenance": [],
      "include_colab_link": true
    },
    "kernelspec": {
      "name": "python3",
      "display_name": "Python 3"
    },
    "language_info": {
      "name": "python"
    }
  },
  "cells": [
    {
      "cell_type": "markdown",
      "metadata": {
        "id": "view-in-github",
        "colab_type": "text"
      },
      "source": [
        "<a href=\"https://colab.research.google.com/github/RejwankabirHamim/Machine-Learning-Sessional-/blob/main/Artificial%20Neural%20Network%20(ANN).ipynb\" target=\"_parent\"><img src=\"https://colab.research.google.com/assets/colab-badge.svg\" alt=\"Open In Colab\"/></a>"
      ]
    },
    {
      "cell_type": "code",
      "execution_count": null,
      "metadata": {
        "id": "C3Yxy60ZQKMn"
      },
      "outputs": [],
      "source": [
        "import numpy as np\n",
        "from sklearn.model_selection import train_test_split\n",
        "from sklearn.preprocessing import OneHotEncoder\n",
        "def sigmoid(x):\n",
        "    return 1 / (1 + np.exp(-x))"
      ]
    },
    {
      "cell_type": "code",
      "source": [
        "def sigmoid_derivative(x):\n",
        "    return x * (1 - x)"
      ],
      "metadata": {
        "id": "qKaKGpU-ZEMM"
      },
      "execution_count": null,
      "outputs": []
    },
    {
      "cell_type": "code",
      "source": [
        "def initialization(inp_sz, hid_sz, out_sz):\n",
        "    np.random.seed(42)\n",
        "    W1 = np.random.randn(inp_sz,hid_sz)\n",
        "    b1 = np.random.randn( 1,hid_sz)\n",
        "    W2 = np.random.randn(hid_sz,out_sz)\n",
        "    b2 = np.random.randn(1,out_sz)\n",
        "    return W1, b1, W2, b2"
      ],
      "metadata": {
        "id": "lZdxKrM4YW4G"
      },
      "execution_count": null,
      "outputs": []
    },
    {
      "cell_type": "code",
      "source": [
        "def forward_propagation(X, W1, b1, W2, b2):\n",
        "    Z1 = np.dot( X,W1) + b1\n",
        "    A1 = sigmoid(Z1)\n",
        "    Z2 = np.dot( A1,W2) + b2\n",
        "    A2 = sigmoid(Z2)\n",
        "    return A1, A2"
      ],
      "metadata": {
        "id": "6zSApyMif8Zp"
      },
      "execution_count": null,
      "outputs": []
    },
    {
      "cell_type": "code",
      "source": [
        "def backpropagation(X, Y, A1, A2, W2):\n",
        "    dZ2=  Y-A2\n",
        "    dW2 = dZ2 * sigmoid_derivative(A2)\n",
        "    dZ1 = np.dot(dW2, W2.T)\n",
        "    dW1 = dZ1 * sigmoid_derivative(A1)\n",
        "    return dW1,dW2"
      ],
      "metadata": {
        "id": "x6Z1To7RgSqt"
      },
      "execution_count": null,
      "outputs": []
    },
    {
      "cell_type": "code",
      "source": [
        "def train(X, y, learning_rate, num_epochs,hidden_size):\n",
        "    input_size = X.shape[1]\n",
        "    output_size = y.shape[1]\n",
        "\n",
        "    W1, b1, W2, b2 = initialize_parameters(input_size, hidden_size, output_size)\n",
        "    for epoch in range(num_epochs):\n",
        "        A1, A2 = forward_propagation(X, W1, b1, W2, b2)\n",
        "        dW1,dW2 = backpropagation(X, y, A1, A2, W2)\n",
        "        W2 += learning_rate * np.dot(A1.T, dW2)\n",
        "        b2 += learning_rate * np.sum(dW2, axis=0, keepdims=True)\n",
        "        W1 += learning_rate * np.dot(X.T, dW1)\n",
        "        b1 += learning_rate * np.sum(dW1, axis=0, keepdims=True)\n",
        "    return W1, b1, W2, b2\n"
      ],
      "metadata": {
        "id": "Cx6LzleFRQX9"
      },
      "execution_count": null,
      "outputs": []
    },
    {
      "cell_type": "code",
      "source": [
        "def predict(X, W1, b1, W2, b2):\n",
        "    Z1 = np.dot(X, W1) + b1\n",
        "    A1 = sigmoid(Z1)\n",
        "    Z2 = np.dot(A1, W2) + b2\n",
        "    A2 = softmax(Z2)\n",
        "    return A2\n"
      ],
      "metadata": {
        "id": "G3JB9VWWRW1O"
      },
      "execution_count": null,
      "outputs": []
    },
    {
      "cell_type": "code",
      "source": [
        "def softmax(x):\n",
        "    tmp = np.exp(x - np.max(x, axis=1, keepdims=True))\n",
        "    return tmp / np.sum(tmp, axis=1, keepdims=True)\n"
      ],
      "metadata": {
        "id": "d1opLokIEe0p"
      },
      "execution_count": null,
      "outputs": []
    },
    {
      "cell_type": "code",
      "source": [
        "def generate_synthetic_data(num_samples, num_features, num_classes):\n",
        "    np.random.seed(42)\n",
        "    features = np.random.randn(num_samples, num_features)\n",
        "    w = np.random.randn(num_features, num_classes)\n",
        "    tmp = np.dot(features, w)\n",
        "    softmax_probs = np.exp(tmp) / np.sum(np.exp(tmp), axis=1, keepdims=True)\n",
        "    lab = np.argmax(softmax_probs, axis=1)\n",
        "    return features, lab"
      ],
      "metadata": {
        "id": "wODV5ebmDlCe"
      },
      "execution_count": null,
      "outputs": []
    },
    {
      "cell_type": "code",
      "source": [
        "num_samples = 2000\n",
        "num_features = 6\n",
        "num_classes = 6\n",
        "hidden_size = 10\n",
        "X, y = generate_synthetic_data(num_samples,num_features, num_classes)\n",
        "\n",
        "encoder = OneHotEncoder(sparse_output=False)\n",
        "y_encoded = encoder.fit_transform(y.reshape(-1, 1))\n",
        "\n",
        "X_train, X_test, y_train, y_test = train_test_split(X, y_encoded, test_size=0.2, random_state=42)\n",
        "\n",
        "learning_rate = 0.01\n",
        "num_epochs = 10000\n",
        "W1,b1,W2,b2 = train(X_train, y_train, learning_rate, num_epochs,hidden_size)\n",
        "\n",
        "predictions = predict(X_train, W1,b1,W2,b2)\n",
        "\n",
        "predicted_labels = np.argmax(predictions, axis=1)\n",
        "\n",
        "accuracy = np.mean(predicted_labels == np.argmax(y_train, axis=1))\n",
        "print(f\"Accuracy for training set: {accuracy:.6f}\")\n",
        "\n",
        "\n",
        "predictions = predict(X_test, W1,b1,W2,b2)\n",
        "\n",
        "predicted_labels = np.argmax(predictions, axis=1)\n",
        "\n",
        "accuracy = np.mean(predicted_labels == np.argmax(y_test, axis=1))\n",
        "print(f\"Accuracy for test set: {accuracy:.6f}\")\n"
      ],
      "metadata": {
        "colab": {
          "base_uri": "https://localhost:8080/"
        },
        "id": "F2hds515RaFX",
        "outputId": "23714f61-abda-4b5b-f266-ca230fbbe240"
      },
      "execution_count": null,
      "outputs": [
        {
          "output_type": "stream",
          "name": "stdout",
          "text": [
            "Accuracy for training set: 0.970625\n",
            "Accuracy for test set: 0.947500\n"
          ]
        }
      ]
    },
    {
      "cell_type": "code",
      "source": [],
      "metadata": {
        "id": "GC2KlX5LWI4Q"
      },
      "execution_count": null,
      "outputs": []
    }
  ]
}